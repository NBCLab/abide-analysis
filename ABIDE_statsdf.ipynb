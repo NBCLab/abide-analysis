{
 "cells": [
  {
   "cell_type": "code",
   "execution_count": null,
   "metadata": {},
   "outputs": [],
   "source": [
    "import os.path as op\n",
    "import pandas as pd\n",
    "import numpy as np\n",
    "import numpy as np"
   ]
  },
  {
   "cell_type": "code",
   "execution_count": null,
   "metadata": {},
   "outputs": [],
   "source": [
    "# location of partipcant csv files\n",
    "dir = \"/Users/chloehampson/Desktop/nbc/ABIDE/Hb_abide\"\n",
    "csv_dir = \"/Users/chloehampson/Desktop/nbc/ABIDE/Hb_abide/csv_files\"\n",
    "\n",
    "# just calling the abide df that we are going to manipulate\n",
    "df = pd.read_csv(op.join(csv_dir, \"abide.csv\"))\n",
    "\n",
    "\n",
    "stat_df = df[\n",
    "    [\n",
    "        \"ABIDE\",\n",
    "        \"DX_GROUP\",\n",
    "        \"DSM_IV_TR\",\n",
    "        \"AGE_AT_SCAN\",\n",
    "        \"SEX\",\n",
    "        \"HANDEDNESS_CATEGORY\",\n",
    "        \"CURRENT_MED_STATUS\"\n",
    "    ]\n",
    "]\n",
    "print(stat_df)"
   ]
  },
  {
   "cell_type": "code",
   "execution_count": null,
   "metadata": {},
   "outputs": [],
   "source": [
    "# Assuming your DataFrame is named df\n",
    "columns_to_split = [\n",
    "    \"DSM_IV_TR\",\n",
    "    \"AGE_AT_SCAN\",\n",
    "    \"SEX\",\n",
    "    \"HANDEDNESS_CATEGORY\",\n",
    "    \"CURRENT_MED_STATUS\",\n",
    "]\n",
    "\n",
    "new_stat_df = stat_df.copy()  # Create a copy to avoid modifying the original DataFrame\n",
    "\n",
    "for column in columns_to_split:\n",
    "    new_column_name_1 = f\"{column}_1\"\n",
    "    new_column_name_2 = f\"{column}_2\"\n",
    "\n",
    "    # Create new columns based on DX_GROUP values\n",
    "    new_stat_df[new_column_name_1] = np.where(\n",
    "        new_stat_df[\"DX_GROUP\"] == 1, new_stat_df[column], np.nan\n",
    "    )\n",
    "    new_stat_df[new_column_name_2] = np.where(\n",
    "        new_stat_df[\"DX_GROUP\"] == 2, new_stat_df[column], np.nan\n",
    "    )\n",
    "\n",
    "    # Drop the orgiginal column\n",
    "    new_stat_df = new_stat_df.drop(column, axis=1)\n",
    "\n",
    "# Print the updated DataFrame\n",
    "print(new_stat_df)\n",
    "\n",
    "# Save the melted DataFrame to the CSV file\n",
    "csv_file_path = op.join(csv_dir, \"abide_stat.csv\")\n",
    "new_stat_df.to_csv(csv_file_path, index=False)"
   ]
  }
 ],
 "metadata": {
  "kernelspec": {
   "display_name": ".venv",
   "language": "python",
   "name": "python3"
  },
  "language_info": {
   "codemirror_mode": {
    "name": "ipython",
    "version": 3
   },
   "file_extension": ".py",
   "mimetype": "text/x-python",
   "name": "python",
   "nbconvert_exporter": "python",
   "pygments_lexer": "ipython3",
   "version": "3.9.6"
  }
 },
 "nbformat": 4,
 "nbformat_minor": 2
}
